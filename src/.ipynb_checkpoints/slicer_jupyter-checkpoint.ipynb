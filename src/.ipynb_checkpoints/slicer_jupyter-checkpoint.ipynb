{
 "cells": [
  {
   "cell_type": "markdown",
   "id": "1a6852a5",
   "metadata": {},
   "source": [
    "### SLICER_FITS\n",
    "\n",
    "Para cortar los cubos fits de PANIC.\n",
    "\n",
    "Se crean fits individuales con el header del cubo original. \n",
    "El nombre de los fits individuales es *slices_+'nombre de la serie'+_i*, y se guardan en las respectivas carpetas de las series, previamente creadas y llamadas como *slices_+'nombre de la serie'*\n"
   ]
  },
  {
   "cell_type": "code",
   "execution_count": null,
   "id": "494b91cd",
   "metadata": {},
   "outputs": [],
   "source": []
  },
  {
   "cell_type": "code",
   "execution_count": 23,
   "id": "ec9ddbde",
   "metadata": {},
   "outputs": [
    {
     "name": "stdout",
     "output_type": "stream",
     "text": [
      "Ejecution time: 5.306020736694336\n"
     ]
    }
   ],
   "source": [
    "from astropy.io import fits\n",
    "from astropy.io.fits import Header\n",
    "import os\n",
    "import time\n",
    "\n",
    "start = time.time()\n",
    "\n",
    "path = os.getcwd()\n",
    "\n",
    "for i in range(9):\n",
    "    # open fit cube\n",
    "    focusSerie = f'M34_000{i+1}'\n",
    "\n",
    "    fit = fits.open(f'FocusSeries_{focusSerie}.fits')\n",
    "    hdr = fit[0].header\n",
    "    img = fit[0].data\n",
    "\n",
    "    # slice and save in different fits\n",
    "    for slice_index in range(len(img)):\n",
    "        img_ind = img[slice_index, :, :]\n",
    "        hdr_ind = Header(cards=hdr.cards)\n",
    "        slc = fits.PrimaryHDU(data=img_ind, header=hdr_ind)\n",
    "        slc.writeto(path + f'/slices_{focusSerie}/slice_{focusSerie}_{slice_index+1}.fits', overwrite=True)\n",
    "        \n",
    "end = time.time()\n",
    "\n",
    "print('Ejecution time:', end-start)"
   ]
  },
  {
   "cell_type": "markdown",
   "id": "2f653dda",
   "metadata": {},
   "source": [
    "#### Comprobación del código\n",
    "\n",
    "Ver si las imágenes son iguales a la correspondiente en el cubo"
   ]
  },
  {
   "cell_type": "code",
   "execution_count": 6,
   "id": "0fbabb5a",
   "metadata": {},
   "outputs": [
    {
     "name": "stdout",
     "output_type": "stream",
     "text": [
      "True\n",
      "True\n",
      "True\n",
      "True\n",
      "True\n",
      "True\n",
      "True\n",
      "True\n",
      "True\n",
      "True\n"
     ]
    }
   ],
   "source": [
    "for i in range(len(img)):\n",
    "    fit_i = fits.open(f'slice_{i}.fits')\n",
    "    hdr_i = fit_i[0].header\n",
    "    img_i = fit_i[0].data\n",
    "\n",
    "    print((img_i == img[i,:,:]).all())\n",
    "    "
   ]
  },
  {
   "cell_type": "markdown",
   "id": "0d6a88b9",
   "metadata": {},
   "source": [
    "Ver si el header es igual, exceptuando las primeras filas. \n",
    "Se eliminan al cortar:\n",
    "1. NAXIS3\n",
    "2. EXTEND\n",
    "3. BSCALE\n",
    "4. BZERO"
   ]
  },
  {
   "cell_type": "code",
   "execution_count": 7,
   "id": "cc100ace",
   "metadata": {},
   "outputs": [
    {
     "data": {
      "text/plain": [
       "SIMPLE  =                    T / conforms to FITS standard                      \n",
       "BITPIX  =                   32 / array data type                                \n",
       "NAXIS   =                    2 / number of array dimensions                     \n",
       "NAXIS1  =                 4096                                                  \n",
       "NAXIS2  =                 4096                                                  \n",
       "COMMENT   FITS (Flexible Image Transport System) format is defined in 'Astronomy\n",
       "COMMENT   and Astrophysics', volume 376, page 359; bibcode: 2001A&A...376..359H \n",
       "BUNIT   = 'adu     '           / [adu]                                          \n",
       "MJD-OBS =         59975.811463 / [d] Modified Julian Date of DATE-OBS           \n",
       "DATE-OBS= '2023-01-31T19:27:21.2130' / [d] UTC end of first frame read          \n",
       "DATE    = '2023-01-31T19:28:32' / file creation date (YYYY-MM-DDThh:mm:ss UT)   \n",
       "UT      =         70041.213042 / [s] 19:27:21.2130 UTC at end of first frame rea\n",
       "LST     =          14469.42879 / [s] local sidereal time: 04:01:09 (EOread)     \n",
       "ALT     =            74.176651 / [deg] Altitude of the object above horizon     \n",
       "AZ      =            116.75148 / [deg] Azimuth (S=0, W=+90) of the object       \n",
       "PARANG  =           104.198013 / [deg] Parallactic angle                        \n",
       "ORIGIN  = 'Centro Astronomico Hispano Aleman (CAHA)'                            \n",
       "OBSERVER= 'PANC Team'                                                           \n",
       "TELESCOP= 'CA-2.2  '                                                            \n",
       "FRATIO  = 'F/08    '           / [1]                                            \n",
       "OBSGEO-L=            -2.546135 / [deg] telesc. geodet. longit. 2015A&A..574A..36\n",
       "OBSGEO-B=            37.223037 / [deg] telesc. geodet. latit. 2015A&A..574A..36R\n",
       "OBSGEO-H=                2168. / [m] above sea level 2015A&A..574A..36R         \n",
       "LAMPSTS = '        '           / calib. lamp                                    \n",
       "INSTRUME= 'PANIC   '           / PAnoramic Near Infrared camera for Calar Alto  \n",
       "CAMERA  = 'HgCdTe IR-Camera (1 H4RGs)'                                          \n",
       "PIXSCALE=             0.370833 / [arcsec/pix]                                   \n",
       "EGAIN1  =                   4. / [e-/adu] electrons/DN                          \n",
       "ENOISE1 =                  16. / [e-] electrons/read ems=1                      \n",
       "ROVER   = 'MPIA IR-ROelectronic Vers. 3.1' / Version det. electronics           \n",
       "WPOS    =                    5 / [ct] number of GEIRS wheels                    \n",
       "W1POS   = 'Coldstop22'                                                          \n",
       "W2POS   = 'J       '                                                            \n",
       "W3POS   = 'Open    '                                                            \n",
       "W4POS   = 'Open    '                                                            \n",
       "W5POS   = 'Open    '                                                            \n",
       "FILTER  = 'J       '           / filter macro name of filter combinations       \n",
       "STRT_INT=         70041.213042 / [s] 19:27:21.2130 start integration (UT)       \n",
       "STOP_INT=         70098.376785 / [s] 19:28:18.3768 stop integration (UT)        \n",
       "RA      =            40.902696 / [deg] R.A.: 02:43:36.6                         \n",
       "DEC     =             42.82254 / [deg] Dec.: +42:49:21                          \n",
       "EQUINOX =                2000. / [a] Julian Epoch                               \n",
       "AIRMASS =             1.039369 / [1] airmass                                    \n",
       "HA      =            19.388388 / [deg] H.A. '01:17:33.21'                       \n",
       "T_FOCUS =            22.300171 / [mm] telescope focus                           \n",
       "CASSPOS =                   0. / [deg] cassegrain position rel. to NSEW         \n",
       "OBJECT  = 'M34     '           / telescope target                               \n",
       "POINT_NO=                    0 / [ct] pointing counter                          \n",
       "DITH_NO =                    0 / [ct] dither step                               \n",
       "EXPO_NO =                   23 / [ct] exposure/read counter                     \n",
       "FILENAME= 'FocusSeries_M34_0001.fits'                                           \n",
       "FILE_ID = 'Panic.2023-01-31T19:27:21.213_0001_001' / instru., time, image, windo\n",
       "TPLNAME = '        '           / macro/template name                            \n",
       "NQCHAN  =                   64 / [ct] output channels of each Hawaii chip       \n",
       "PTIME   =                    2 / pixel-time-base index                          \n",
       "PREAD   =                10000 / [ns] pixel read selection                      \n",
       "PSKIP   =                  150 / [ns] pixel skip selection                      \n",
       "LSKIP   =                  201 / [ns] line skip selection                       \n",
       "READMODE= 'continuous.sampling.read' / read cycle-type                          \n",
       "IDLEMODE= 'wait    '           / idle to read transition                        \n",
       "IDLETYPE= 'ReadWoConv'         / idle cycle-type                                \n",
       "SAVEMODE= 'continuous.sampling.read' / save cycle-type                          \n",
       "NEXP    =                   10 / cycle repeat count                             \n",
       "CPAR1   =                    2 / cycle type parameter                           \n",
       "ITIME   =             2.765469 / [s] scheduled integration time                 \n",
       "CTIME   =             5.530939 / [s] read-mode cycle time                       \n",
       "EMSAMP  =                    1 / [ct] electronic multi-sampling                 \n",
       "NCOADDS =                    1 / [ct] coadds (total)                            \n",
       "EXPTIME =             2.765469 / [s] total integ. time                          \n",
       "FRAMENUM=                    1 / contains 1 .. 10                               \n",
       "SKYFRAME= 'unknown '                                                            \n",
       "DETSEC  = '[1:4096,1:4096]'    / [pix] xrange and yrange of window              \n",
       "DATASEC = '[1:4096,1:4096]'    / [pix] xy-range of science data                 \n",
       "DETSIZE = '[1:4096,1:4096]'    / [px] full size of the 4 detector mosaic        \n",
       "CHIPSIZX=                 4096 / [pix] single chip pixels in x                  \n",
       "CHIPSIZY=                 4096 / [pix] single chip pixels in y                  \n",
       "HINVDIR =                    0 / left-right directions of horiz. scanner        \n",
       "VINVDIR =                    0 / top-bottom directions of vert. scanner         \n",
       "DETROT90=                    3 / [ct] 90 deg SW image cw rotations              \n",
       "DETXYFLI=                    0 / [1] SW image flip (1=RightLeft, 2=UpDown)      \n",
       "B_EXT1  =             2.080078 / [V] external bias 2130                         \n",
       "B_DSUB1 =             0.600179 / [V] det. bias voltage DSUB 1034                \n",
       "B_VREST1=              0.30009 / [V] det. bias voltage VRESET 517               \n",
       "B_VBIAG1=             2.199707 / [V] det. bias voltage VBIASGATE 3604           \n",
       "B_VNBIA1=                   0. / [V] det. bias voltage VNBIAS 0                 \n",
       "B_VPBIA1=                   0. / [V] det. bias voltage VPBIAS 0                 \n",
       "B_VNCAS1=                   0. / [V] det. bias voltage VNCASC 0                 \n",
       "B_VPCAS1=                   0. / [V] det. bias voltage VPCASC 0                 \n",
       "B_VBOUB1=                   0. / [V] det. bias voltage VBIASOUTBUF 0            \n",
       "B_REFSA1=                   0. / [V] det. bias voltage REFSAMPLE 0              \n",
       "B_REFCB1=                   0. / [V] det. bias voltage REFCOLBUF 0              \n",
       "TEMP_A  =            77.985001 / [K] Moly frame (-195.16 C)                     \n",
       "TEMP_B  =            79.995003 / [K] Detector (-193 C)                          \n",
       "PRESS1  =              2.0E-05 / [Pa] (1.980e-10 bar) , 'pressure1'             \n",
       "TEMPMON =                    8 / [ct] # of temp. monitrd 2023-01-31 19:26 loc. t\n",
       "TEMPMON1=               83.237 / [K] (-189.91 C) Cold plate                     \n",
       "TEMPMON2=            94.018997 / [K] (-179.13 C) Lens Mount 1                   \n",
       "TEMPMON3=            84.662003 / [K] (-188.49 C) Charcoal                       \n",
       "TEMPMON4=            75.728996 / [K] (-197.42 C) LN2 detector tank              \n",
       "TEMPMON5=            85.135002 / [K] (-188.01 C) Filter wheel housing           \n",
       "TEMPMON6=            88.301003 / [K] (-184.85 C) Preamps                        \n",
       "TEMPMON7=               78.833 / [K] (-194.32 C) LN2 main tank                  \n",
       "TEMPMON8=            86.136002 / [K] (-187.01 C) Radiation shield               \n",
       "CREATOR = 'GEIRS : trunk-r801M-49 (Nov 28 2022, 18:11:42)'                      \n",
       "PLX_API =                 8.23 / Major and Minor PLX API version                \n",
       "OS      = 'Linux panic22 5.14.21-150400.24.21-default #1 SMP PREEMPT_DYNAMIC We'\n",
       "UUID    = '6aa8cab2-a19d-11ed-93bc-90b11c480ad2' / Universally unique identifier\n",
       "COMMENT = 'no comment'                                                          \n",
       "OBS_TOOL= 'OT_V2.0 '           / PANIC Observation Tool Software version        \n",
       "PROG_ID = '        '           / PANIC Observing Program ID                     \n",
       "OB_ID   = '1       '           / PANIC Observing Block ID                       \n",
       "OB_NAME = 'Focus Series M34 J' / PANIC Observing Block Name                     \n",
       "OB_PAT  = 'Focus Series'       / PANIC Observing Block Pattern Type             \n",
       "PAT_NAME= 'FS 1    '           / PANIC Observing Secuence Pattern Name          \n",
       "PAT_EXPN=                    1 / PANIC Pattern exposition number                \n",
       "PAT_NEXP=                   21 / PANIC Pattern total number of expositions      \n",
       "IMAGETYP= 'FOCUS   '           / PANIC Image type                               \n",
       "OBSERVAT= 'CAHA    '           / Calar Alto, Andalucia, Spain, panic.caha.es    \n",
       "CHIPID  = '19908   '           / detect. HW ID                                  \n",
       "OPCYCL  =                   11 / Operation cycle number                         \n",
       "OPDATE  = '2022-11-28T10:01:00' / UT-date of operation cycle start              \n",
       "MNTCYCL =                   25 / Mounting cycle number                          \n",
       "MNTDATE = '2023-01-31T16:20:00' / UT-date of mounting cycle start               \n",
       "AMBWINSP=                  2.7 / [m/s] wind speed day=20230131 UT=1926          \n",
       "AMBWINDI=                 352. / [deg] wind direction day=20230131 UT=1926      \n",
       "AMBTEMP =                 -0.4 / [oC] temperature day=20230131 UT=1926          \n",
       "AMBHUMI =                   34 / [%] rel. humidity day=20230131 UT=1926         \n",
       "AMBDEWP =                -14.2 / [oC] dew point day=20230131 UT=1926            \n",
       "AMBPRESS=                780.1 / [hPa] air pressure day=20230131 UT=1926        \n",
       "AMBCLOUD=                -28.9 / [] cloud sensor day=20230131 UT=1926           \n",
       "CAVXEXTN=                0.121 / [] CAVEX extinction day=20230131 hour=192613   \n",
       "CAVXRMS =                 0.04 / [] CAVEX extn. error day=20230131 hour=192613  \n",
       "DIMMLAT =                 1.97 / [arcsec] ALPHECCA day=20230131 hr=054502 1990A&\n",
       "DIMMTRA =                2.132 / [arcsec] ALPHECCA day=20230131 hr=054502 1990A&\n",
       "DIMMAIRM=                 1.06 / [] ALPHECCA day=20230131 hr=054502 1990A&A...22\n",
       "T22TEMP =                  0.9 / [oC] T22 tube temperature                      \n",
       "CUNIT1  = 'deg     '           / WCS units along axis 1                         \n",
       "CUNIT2  = 'deg     '           / WCS units along axis 2                         \n",
       "CTYPE1  = 'RA---TAN'           / WCS axis 1                                     \n",
       "CTYPE2  = 'DEC--TAN'           / WCS axis 2                                     \n",
       "CRVAL1  =     40.9026958333333 / [deg] RA in center                             \n",
       "CRVAL2  =             42.82254 / [deg] DEC in center                            \n",
       "CD1_1   = -0.000103009260363049 / [deg/px] WCS matrix diagonal                  \n",
       "CD2_2   = 0.000103009260363049 / [deg/px] WCS matrix diagonal                   \n",
       "CD1_2   = -2.11275524692898E-14 / [deg/px] WCS matrix outer diagonal            \n",
       "CD2_1   = -2.11275524692898E-14 / [deg/px] WCS matrix outer diagonal            \n",
       "CRPIX1  =                 2049 / [px] RA and DEC center along axis 1            \n",
       "CRPIX2  =                 2049 / [px] RA and DEC center along axis 2            \n",
       "EOF00000=         70041.213041 / [s] 19:27:21.2130 UTC past midnight            \n",
       "EOF00001=         70045.808092 / [s] 19:27:25.8080 +4.59505 UTC past midnight   \n",
       "EOF00002=         70048.573321 / [s] 19:27:28.5733 +2.76523 UTC past midnight   \n",
       "EOF00003=          70051.33898 / [s] 19:27:31.3389 +2.76566 UTC past midnight   \n",
       "EOF00004=          70054.10413 / [s] 19:27:34.1041 +2.76515 UTC past midnight   \n",
       "EOF00005=         70056.869731 / [s] 19:27:36.8697 +2.7656 UTC past midnight    \n",
       "EOF00006=         70059.636508 / [s] 19:27:39.6365 +2.76678 UTC past midnight   \n",
       "EOF00007=         70062.400638 / [s] 19:27:42.4006 +2.76413 UTC past midnight   \n",
       "EOF00008=         70065.166153 / [s] 19:27:45.1661 +2.76551 UTC past midnight   \n",
       "EOF00009=         70067.933146 / [s] 19:27:47.9331 +2.76699 UTC past midnight   \n",
       "EOF00010=         70070.698163 / [s] 19:27:50.6981 +2.76502 UTC past midnight   \n",
       "EOF00011=         70073.462259 / [s] 19:27:53.4622 +2.7641 UTC past midnight    \n",
       "EOF00012=         70076.228049 / [s] 19:27:56.2280 +2.76579 UTC past midnight   \n",
       "EOF00013=         70078.993419 / [s] 19:27:58.9934 +2.76537 UTC past midnight   \n",
       "EOF00014=         70081.758797 / [s] 19:28:01.7587 +2.76538 UTC past midnight   \n",
       "EOF00015=          70084.52426 / [s] 19:28:04.5242 +2.76546 UTC past midnight   \n",
       "EOF00016=         70087.289942 / [s] 19:28:07.2899 +2.76568 UTC past midnight   \n",
       "EOF00017=         70090.055421 / [s] 19:28:10.0554 +2.76548 UTC past midnight   \n",
       "EOF00018=         70092.820853 / [s] 19:28:12.8208 +2.76543 UTC past midnight   \n",
       "EOF00019=         70095.586415 / [s] 19:28:15.5864 +2.76556 UTC past midnight   \n",
       "EOF00020=         70098.351786 / [s] 19:28:18.3517 +2.76537 UTC past midnight   "
      ]
     },
     "execution_count": 7,
     "metadata": {},
     "output_type": "execute_result"
    }
   ],
   "source": [
    "hdr_i = fits.open('slice_0.fits')[0].header\n",
    "hdr_i"
   ]
  },
  {
   "cell_type": "code",
   "execution_count": 8,
   "id": "085da418",
   "metadata": {},
   "outputs": [
    {
     "data": {
      "text/plain": [
       "True"
      ]
     },
     "execution_count": 8,
     "metadata": {},
     "output_type": "execute_result"
    }
   ],
   "source": [
    "hdr_i[7:] == hdr[11:]"
   ]
  },
  {
   "cell_type": "code",
   "execution_count": null,
   "id": "eee0e0f6",
   "metadata": {},
   "outputs": [],
   "source": []
  }
 ],
 "metadata": {
  "kernelspec": {
   "display_name": "Python 3 (ipykernel)",
   "language": "python",
   "name": "python3"
  },
  "language_info": {
   "codemirror_mode": {
    "name": "ipython",
    "version": 3
   },
   "file_extension": ".py",
   "mimetype": "text/x-python",
   "name": "python",
   "nbconvert_exporter": "python",
   "pygments_lexer": "ipython3",
   "version": "3.11.6"
  }
 },
 "nbformat": 4,
 "nbformat_minor": 5
}
